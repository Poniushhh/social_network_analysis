{
  "cells": [
    {
      "cell_type": "markdown",
      "metadata": {
        "id": "5l2nX2V90ar_"
      },
      "source": [
        "<a id='top'></a>\n",
        "# *Лабораторын ажил 11: B221910802*\n",
        "\n",
        "``linkpred`` бол холбоосыг таамаглах шинжилгээ хийх *unsupervised* буюу удирдлагагүй машин сургалтын алгоритмуудыг хэрэгжүүлэхэд туслах зорилготой бичигдсэн python хэлний сан юм.\n",
        "\n",
        "Энэ хичээлээр бид уг сангийн тухай болон уг сан дахь гол гол функцуудыг танилцуулах, мөн тэдгээрийг хэрэглэгжүүлэхийг зорилоо."
      ]
    },
    {
      "cell_type": "markdown",
      "metadata": {
        "id": "dX9NQcbh0asA"
      },
      "source": [
        "## Агуулга\n",
        "\n",
        "1. Хэрхэн уг санг суулгах [Installing LinkPred](#install)\n",
        "2. Таамаглах алгоритмын бүтэц, ажиллагаа[Prediction Workflow](#workflow)\n",
        "    1. Өгөгдлийг файлаас оруулах[Loading the network from file](#graph)\n",
        "    2. Удирдлагагүй сургалтын таамаглагчийг тооцоолох [Computing the desired unsupervied predictors](#pred)\n",
        "    3. Ялгаатай таамаглагчидын үнэлгээ болон харьцуулалт [Evaluation and comparison of different predictors](#eval)\n",
        "3. Дүгнэлт [Conclusions](#conclusion)"
      ]
    },
    {
      "cell_type": "markdown",
      "metadata": {
        "id": "4lxloSXQ0asA"
      },
      "source": [
        "<a id='install'></a>\n",
        "## 1. LinkPred санг суулгах\n",
        "\n",
        "Эхний алхам бол,  ``linkpred`` санг суулгах бөгөөд амжилттай суусан тохиолдолд уг сангийн функцүүдтэй ажиллах боломжтой болно.\n",
        "\n",
        "Санг суулгахдаа ``pip`` ашиглаж болно."
      ]
    },
    {
      "cell_type": "code",
      "source": [
        "!pip install linkpred"
      ],
      "metadata": {
        "colab": {
          "base_uri": "https://localhost:8080/"
        },
        "id": "9Q9bEOg52bfa",
        "outputId": "1f106ad4-b4c8-4364-e894-df7f6994efa8"
      },
      "execution_count": null,
      "outputs": [
        {
          "output_type": "stream",
          "name": "stdout",
          "text": [
            "Collecting linkpred\n",
            "  Downloading linkpred-0.6-py3-none-any.whl.metadata (5.5 kB)\n",
            "Requirement already satisfied: matplotlib>=3.5 in /usr/local/lib/python3.11/dist-packages (from linkpred) (3.10.0)\n",
            "Requirement already satisfied: networkx>=3.0 in /usr/local/lib/python3.11/dist-packages (from linkpred) (3.4.2)\n",
            "Requirement already satisfied: numpy>=1.23 in /usr/local/lib/python3.11/dist-packages (from linkpred) (2.0.2)\n",
            "Requirement already satisfied: pyyaml>=3.0 in /usr/local/lib/python3.11/dist-packages (from linkpred) (6.0.2)\n",
            "Requirement already satisfied: scipy>=1.10 in /usr/local/lib/python3.11/dist-packages (from linkpred) (1.14.1)\n",
            "Collecting smokesignal>=0.7 (from linkpred)\n",
            "  Downloading smokesignal-0.7.0.tar.gz (5.9 kB)\n",
            "  Preparing metadata (setup.py) ... \u001b[?25l\u001b[?25hdone\n",
            "Requirement already satisfied: contourpy>=1.0.1 in /usr/local/lib/python3.11/dist-packages (from matplotlib>=3.5->linkpred) (1.3.1)\n",
            "Requirement already satisfied: cycler>=0.10 in /usr/local/lib/python3.11/dist-packages (from matplotlib>=3.5->linkpred) (0.12.1)\n",
            "Requirement already satisfied: fonttools>=4.22.0 in /usr/local/lib/python3.11/dist-packages (from matplotlib>=3.5->linkpred) (4.57.0)\n",
            "Requirement already satisfied: kiwisolver>=1.3.1 in /usr/local/lib/python3.11/dist-packages (from matplotlib>=3.5->linkpred) (1.4.8)\n",
            "Requirement already satisfied: packaging>=20.0 in /usr/local/lib/python3.11/dist-packages (from matplotlib>=3.5->linkpred) (24.2)\n",
            "Requirement already satisfied: pillow>=8 in /usr/local/lib/python3.11/dist-packages (from matplotlib>=3.5->linkpred) (11.1.0)\n",
            "Requirement already satisfied: pyparsing>=2.3.1 in /usr/local/lib/python3.11/dist-packages (from matplotlib>=3.5->linkpred) (3.2.3)\n",
            "Requirement already satisfied: python-dateutil>=2.7 in /usr/local/lib/python3.11/dist-packages (from matplotlib>=3.5->linkpred) (2.8.2)\n",
            "Requirement already satisfied: six>=1.5 in /usr/local/lib/python3.11/dist-packages (from python-dateutil>=2.7->matplotlib>=3.5->linkpred) (1.17.0)\n",
            "Downloading linkpred-0.6-py3-none-any.whl (28 kB)\n",
            "Building wheels for collected packages: smokesignal\n",
            "  Building wheel for smokesignal (setup.py) ... \u001b[?25l\u001b[?25hdone\n",
            "  Created wheel for smokesignal: filename=smokesignal-0.7.0-py3-none-any.whl size=6030 sha256=c9aee6b583f9af9190e694727dde620a300ab1d73d45d3c2c446dc9ebb86a997\n",
            "  Stored in directory: /root/.cache/pip/wheels/dd/61/b2/4d7520f5b9b3e236bdef080edef4420f2203711b8f9279015f\n",
            "Successfully built smokesignal\n",
            "Installing collected packages: smokesignal, linkpred\n",
            "Successfully installed linkpred-0.6 smokesignal-0.7.0\n"
          ]
        }
      ]
    },
    {
      "cell_type": "markdown",
      "metadata": {
        "id": "1gw2Y-lc0asB"
      },
      "source": [
        "``linkpred`` сан амжилттай суусан эсэхийг шалгахдаа дараах байдлаар кодондоо оруулж ирж болж байна уу гэж үзнэ."
      ]
    },
    {
      "cell_type": "code",
      "execution_count": null,
      "metadata": {
        "id": "VKUU61MX0asB"
      },
      "outputs": [],
      "source": [
        "import linkpred"
      ]
    },
    {
      "cell_type": "markdown",
      "metadata": {
        "id": "b3qovt6w0asC"
      },
      "source": [
        "<a id='workflow'></a>\n",
        "## 2. Таамаглах үйл явцын дараалал\n",
        "\n",
        "``linkpred`` нь дараах 3-н үе шаттайгаар Холбоосыг таамаглах үйл явцыг биелүүлдэг.\n",
        "\n",
        "1. Сүлжээгээ байгуулах - Network Loading\n",
        "2. Таамаглагчаа сонгох, аппликейшн - Predictor selection and application\n",
        "3. Үр дүн үнэлэх - Results evaluation\n",
        "\n",
        "<a id='graph'></a>\n",
        "### 2.A Файлаас уншиж сүлжээг байгуулах\n",
        "\n",
        "Эхлээд, ``linkpred`` нь файлаас графыг уншихыг шаарддаг. Бид энэ удаа  Game of Thrones Season 6-ын ирмэгүүдийн мэдээллийг ашиглана."
      ]
    },
    {
      "cell_type": "markdown",
      "source": [
        "Сангуудыг импортлох буюу дуудах шаардлагатай. Үүнд matplotlib, networkx сангууд орно. NetworkX бол Python хэл дэх олон төрлийн сүлжээний бүтцийг үүсгэх, засварлах, судлах боломжийг олгодог сан юм. Энэ нь нийгмийн, биологийн болон дэд бүтцийн сүлжээг шинжлэх хэрэгслүүдийг хангахын зэрэгцээ том хэмжээний өгөгдөлтэй хялбар ажиллах боломжийг олгодог. matplotlib сан нь график, диаграмм зурах, өгөгдлийн визуализаци хийхэд ашиглагдана."
      ],
      "metadata": {
        "id": "RUWPI1g7MyBN"
      }
    },
    {
      "cell_type": "code",
      "execution_count": null,
      "metadata": {
        "id": "Ock86qcM0asD"
      },
      "outputs": [],
      "source": [
        "%matplotlib inline\n",
        "import matplotlib.pyplot as plt\n",
        "import networkx as nx"
      ]
    },
    {
      "cell_type": "markdown",
      "source": [
        "Энэхүү хэсэсгт CSV файлуудаас Game of Thrones киноны 6-р улирал дахь дүрүүд хоорондын харилцааны өгөгдлийг уншиж, NetworkX ашиглан сүлжээ (график) байгуулж байна."
      ],
      "metadata": {
        "id": "EKx0d4hDOpQ9"
      }
    },
    {
      "cell_type": "code",
      "execution_count": null,
      "metadata": {
        "id": "mFLaxPRi0asD",
        "colab": {
          "base_uri": "https://localhost:8080/"
        },
        "outputId": "fda9c22a-9e22-4c95-cc09-3a6949547e4b"
      },
      "outputs": [
        {
          "output_type": "stream",
          "name": "stdout",
          "text": [
            "Mounted at /content/drive\n"
          ]
        }
      ],
      "source": [
        "from google.colab import drive  # Google Drive руу хандах сан\n",
        "\n",
        "# Google Drive хандаж өгөгдөл авахад бэлтгэх\n",
        "drive.mount('/content/drive')\n",
        "\n",
        "def read_net_w(filename):\n",
        "    g = nx.Graph()  # Хоосон граф үүсгэх\n",
        "    with open(filename) as f:\n",
        "        f.readline()# Толгой болох эхний мөрийг алгасах\n",
        "        # Мөр бүрийн хувьд давталт гүйлгэн\n",
        "        for l in f:\n",
        "            l = l.split(\",\")  # Таслалаар хязгаарлан өгөгдлийн утгуудыг унших\n",
        "            g.add_edge(l[0], l[1], weight=int(l[2])) # 2 оройг холбосон ирмэгийг нэмэх ба ингэхдээ ирмэгийн жингийн утгыг бас нэмнэ\n",
        "    return g  # Үүсгэсэн графаа буцаах\n",
        "\n",
        "# Өмнө тодорхойлсон функцээ ашиглан файлаас графаа үүсгэнэ\n",
        "g = read_net_w(f'/content/drive/My Drive/asioaf/got-s6-edges.csv')"
      ]
    },
    {
      "cell_type": "markdown",
      "source": [
        "Үүсгэсэн графаа networkx сангийн draw функцийг ашигилан зурж харна."
      ],
      "metadata": {
        "id": "OuoRRBGhO3Ky"
      }
    },
    {
      "cell_type": "code",
      "source": [
        "nx.draw(g)"
      ],
      "metadata": {
        "colab": {
          "base_uri": "https://localhost:8080/",
          "height": 516
        },
        "id": "V4Z-kl0ytUn7",
        "outputId": "611e6907-2a0e-489d-a4fe-9907e3e3586e"
      },
      "execution_count": null,
      "outputs": [
        {
          "output_type": "display_data",
          "data": {
            "text/plain": [
              "<Figure size 640x480 with 1 Axes>"
            ],
            "image/png": "[encoded data removed]"
          },
          "metadata": {}
        }
      ]
    },
    {
      "cell_type": "markdown",
      "metadata": {
        "id": "p1F4L2X20asD"
      },
      "source": [
        "<a id='pred'></a>\n",
        "### 2.B Удирдлагагүй сургалтын таамаглагч тооцоолох\n",
        "\n",
        "``linkpred`` нь 4 бүлэг удирдлагагүй сургалтын таамаглагчид өргөн хэрэглэгдэж байна. Үүнд:\n",
        "- **Neighborhood буюу хөршүүдэд суурилсан арга:**\n",
        "    - *AdamicAdar*, AssociationStrength, *CommonNeighbours*, Cosine, DegreeProduct, *Jaccard*, MaxOverlap, MinOverlap, NMeasure, Pearson,ResourceAllocation\n",
        "- **Paths буюу зайн хэмжүүрт суурилсан арга:**\n",
        "    - GraphDistance, *Katz*\n",
        "- **Ranking буюу эрэмбэлэх арга:**\n",
        "    - *SimRank*, RootedPageRank\n",
        "- **Miscellanea буюу бусад:**\n",
        "    - Community, Copy, *Random*\n",
        "    \n",
        "Энэ лаборатороор бид цөөн хэдэн аргыг орууллаа.\n",
        "\n",
        "Энгийн ойлгомжтой байлгахын тулд бид сонгогдсон таамаглагч бүрт топ-5 нь үр дүнг харууллаа."
      ]
    },
    {
      "cell_type": "markdown",
      "metadata": {
        "id": "fT5r4gl-0asE"
      },
      "source": [
        "#### 2.B.1 Neighborhood\n",
        "\n",
        "Эхний хэсэг бүлэг таамаглагч бол зангилаа бүрийн хувьд холбогдох боломжтой хос оройг уг хоёр оройн хөрш оройнуудтайгаа хэр хүчтэй сул холбогдсон байдлаас үүдэн холбоосыг үүсэх эсэх магадлалаар олдог.\n",
        " </br>\n",
        "Энэ төрлийн таамаглагчид нь дараах асуултанд хариулт олохыг хичээдэг.\n",
        " *How many friend we have to share in order to become friends?*\n",
        "\n",
        "##### **Common Neighbors**\n",
        "\n",
        "Илүү олон дундын найзуудтай бол бид найз болох магадлал өндөр байна.\n",
        "\n",
        "Дараах код нь дундын найзтай боловч хоорондоо шууд холбоо үүсгээгүй дүрүүдийн хувьд ирээдүйд холбогдох магадлал хамгийн өндөр 5 дүрийг хэвлэн харуулж байна."
      ]
    },
    {
      "cell_type": "code",
      "execution_count": null,
      "metadata": {
        "colab": {
          "base_uri": "https://localhost:8080/"
        },
        "id": "TdjLwxFL0asE",
        "outputId": "0ce0ce24-6f6f-4d94-a59b-c519c5f42ef5"
      },
      "outputs": [
        {
          "output_type": "stream",
          "name": "stdout",
          "text": [
            "TOMMEN - MACE 8.0\n",
            "NED - LADY_CRANE 8.0\n",
            "NED - CLARENZO 8.0\n",
            "MARGAERY - IZEMBARO 8.0\n",
            "MARGAERY - ARYA 8.0\n"
          ]
        }
      ],
      "source": [
        "# Оршин байгаа оройнуудыг оролцуулахгүйгээр Common Neighbors таамаглагчийг g графд үүсгэх\n",
        "cn = linkpred.predictors.CommonNeighbours(g, excluded=g.edges())\n",
        "# Ирээдүйд үүсэх боломжит ирмэгүүдэд оноог нь тооцоолох\n",
        "cn_results = cn.predict()\n",
        "\n",
        "#Хамгийн өндөр оноотой 5 холбоосийг хадгалах\n",
        "top = cn_results.top(5)\n",
        "#Тэдгээрийн хувьд оройнууд болон оноог хэвлэнэ\n",
        "for edge, score in top.items():\n",
        "    print(edge, score)"
      ]
    },
    {
      "cell_type": "markdown",
      "metadata": {
        "id": "o4NBiHl80asE"
      },
      "source": [
        "##### **Jaccard**\n",
        "Топологи бүтэц болон аттрибутуудын ижил төсөөтэй байдал нь найз болох эсэхийг тодорхойлно.\n",
        "\n",
        "Өөрөөр хэлбэл, Jaccard алгоритм нь хоёр оройн нийтлэг хөршүүдийн тоог нийт хөршүүдийн тоонд хувааж оноог тооцдог бөгөөд өндөр оноо авсан хосууд ирээдүйд хоорондоо холбогдох магадлал өндөртэй гэж үздэг. Дараах үр дүн нь одоогоор холбоогүй оройнуудын хооронд хамгийн өндөр Jaccard оноотой хосуудыг харуулж байна."
      ]
    },
    {
      "cell_type": "code",
      "execution_count": null,
      "metadata": {
        "colab": {
          "base_uri": "https://localhost:8080/"
        },
        "id": "-pqXnh8X0asF",
        "outputId": "81941376-fdf4-4940-dda7-a6765526e854"
      },
      "outputs": [
        {
          "output_type": "stream",
          "name": "stdout",
          "text": [
            "RED_PRIEST - KINVARA 1.0\n",
            "LITTLE_SAM - DICKON 1.0\n",
            "TOMMEN - MACE 0.7272727272727273\n",
            "JOFFREY - CAMELLO 0.7272727272727273\n",
            "OLD_NAN - BENJEN 0.7142857142857143\n"
          ]
        }
      ],
      "source": [
        "# Оршин байгаа оройнуудыг оролцуулахгүйгээр Jaccard таамаглагчийг g графд үүсгэх\n",
        "jc = linkpred.predictors.Jaccard(g, excluded=g.edges())\n",
        "# Ирээдүйд үүсэх боломжит ирмэгүүдэд оноог нь тооцоолох\n",
        "jc_results = jc.predict()\n",
        "\n",
        "# Хамгийн өндөр оноотой 5 холбоосийг хадгалах\n",
        "top = jc_results.top(5)\n",
        "# Тэдгээрийн хувьд оройнууд болон оноог хэвлэнэ\n",
        "for edge, score in top.items():\n",
        "    print(edge, score)\n"
      ]
    },
    {
      "cell_type": "markdown",
      "metadata": {
        "id": "kavWej340asF"
      },
      "source": [
        "##### **Adamic Adar**\n",
        "Бидний дундын найзын тоо нь биднийг найз болох эсэхийг тодорхойлоход ашиглагдана.\n",
        "\n",
        "Гэхдээ Adamic-Adar алгоритм нь нийтлэг хөршүүдийн тоог тоолохоос гадна тэр хөршүүдийн ховор байдлыг илүү чухалчилдаг — ховор хөрштэй байх нь өндөр оноо өгдөг. Доорх үр дүн нь одоогоор холбоогүй оройнуудын хооронд хамгийн өндөр Adamic-Adar оноотой хосуудыг харуулж байна."
      ]
    },
    {
      "cell_type": "code",
      "execution_count": null,
      "metadata": {
        "colab": {
          "base_uri": "https://localhost:8080/"
        },
        "id": "EEppoq3f0asF",
        "outputId": "afa4a1d2-1d19-46b1-aa95-9f5861b3f2c8"
      },
      "outputs": [
        {
          "output_type": "stream",
          "name": "stdout",
          "text": [
            "TOMMEN - MACE 3.1875572810307893\n",
            "NED - LADY_CRANE 3.1263711657257836\n",
            "NED - CLARENZO 3.1263711657257836\n",
            "SANSA - ROBB 3.096644315133246\n",
            "JOFFREY - CAMELLO 2.8944937119329137\n"
          ]
        }
      ],
      "source": [
        "# Оршин байгаа оройнуудыг оролцуулахгүйгээр Adamic-Adar таамаглагчийг g графд үүсгэх\n",
        "aa = linkpred.predictors.AdamicAdar(g, excluded=g.edges())\n",
        "# Ирээдүйд үүсэх боломжит ирмэгүүдэд оноог нь тооцоолох\n",
        "aa_results = aa.predict()\n",
        "\n",
        "# Хамгийн өндөр оноотой 5 холбоосийг хадгалах\n",
        "top = aa_results.top(5)\n",
        "# Тэдгээрийн хувьд оройнууд болон оноог хэвлэнэ\n",
        "for edge, score in top.items():\n",
        "    print(edge, score)\n"
      ]
    },
    {
      "cell_type": "markdown",
      "metadata": {
        "id": "D_hzGZYA0asF"
      },
      "source": [
        "#### 2.B.2 Paths\n",
        "\n",
        "Хоёрдогч төрлийн таамаглагчид нь хос оройн хоорондын зайнаас хамаарч тэд ирээдүйд холбогдох эсэхийг магадлаар боддог.\n",
        "</br>\n",
        "Энэ төрлийн таамаглагчид нь дараах асуултад хариулт олохыг хичээдэг: *How distant are we?*\n",
        "\n",
        "\n",
        "##### **Katz**\n",
        "Katz алгоритм нь хоёр оройн хоорондох бүх боломжит замуудыг тооцож, тэдгээрийн уртаас хамаарч жин өгдөг. Өөрөөр хэлбэл, богино замууд илүү жинтэй гэж үздэг бөгөөд урт замууд бага нөлөөтэй. Доорх үр дүн нь одоогоор холбоогүй оройнуудын хооронд хамгийн өндөр Katz оноотой хосуудыг харуулж байна."
      ]
    },
    {
      "cell_type": "code",
      "execution_count": null,
      "metadata": {
        "colab": {
          "base_uri": "https://localhost:8080/"
        },
        "id": "X--8-ary0asF",
        "outputId": "69b8ba0a-fc6c-42e7-b7bd-2711f44d4397"
      },
      "outputs": [
        {
          "output_type": "stream",
          "name": "stdout",
          "text": [
            "\n",
            "LADY_CRANE - JAQEN 0.005571576860773001\n",
            "SANSA - ALLISER_THORNE 0.004234378077202\n",
            "TYRION - DAARIO 0.004145905054793999\n",
            "CERSEI - BRIENNE 0.0038862606857720003\n",
            "MELISANDRE - LYANNA_MORMONT 0.0035937193855959996\n"
          ]
        }
      ],
      "source": [
        "# Оршин байгаа оройнуудыг оролцуулахгүйгээр Katz таамаглагчийг g графд үүсгэх\n",
        "kz = linkpred.predictors.Katz(g, excluded=g.edges())\n",
        "# Ирээдүйд үүсэх боломжит ирмэгүүдэд оноог нь тооцоолох\n",
        "kz_results = kz.predict()\n",
        "\n",
        "# Хамгийн өндөр оноотой 5 холбоосийг хадгалах\n",
        "top = kz_results.top(5)\n",
        "# Тэдгээрийн хувьд оройнууд болон оноог хэвлэнэ\n",
        "for edge, score in top.items():\n",
        "    print(edge, score)\n"
      ]
    },
    {
      "source": [
        "##### **Graph Distance**\n",
        "Графын зай буюу Distance нь хоёр оройн хоорондын богино замын уртаар тодорхойлогдоно.\n",
        "Өөрөөр хэлбэл, Graph Distance нь хоёр оройн хамгийн богино замын уртаар үндэслэн таамаглал гаргадаг. Өөрөөр хэлбэл, богино замтай хосууд ирээдүйд холбогдох магадлал өндөртэй гэж үздэг бөгөөд оноо бага байх тусам илүү ойр гэж тооцогдоно. Доорх үр дүн нь одоогоор холбоогүй оройнуудын хооронд хамгийн ойр байрлалтай хосуудыг харуулж байна."
      ],
      "cell_type": "markdown",
      "metadata": {
        "id": "1-otsYcI0asG"
      }
    },
    {
      "cell_type": "code",
      "execution_count": null,
      "metadata": {
        "colab": {
          "base_uri": "https://localhost:8080/"
        },
        "id": "m6RedXEC0asG",
        "outputId": "bbff3b54-2eb6-4804-a11a-9dc58035936f"
      },
      "outputs": [
        {
          "output_type": "stream",
          "name": "stdout",
          "text": [
            "LADY_CRANE - JAQEN 36.136054421768705\n",
            "TYRION - DAARIO 30.29268292682927\n",
            "CERSEI - BRIENNE 28.44827586206896\n",
            "MELISANDRE - LITTLEFINGER 23.427491305005294\n",
            "CERSEI - BRONN 23.294117647058822\n"
          ]
        }
      ],
      "source": [
        "# Оршин байгаа оройнуудыг оролцуулахгүйгээр Graph Distance таамаглагчийг g графд үүсгэх\n",
        "gd = linkpred.predictors.GraphDistance(g, excluded=g.edges())\n",
        "# Ирээдүйд үүсэх боломжит ирмэгүүдэд оноог нь тооцоолох\n",
        "gd_results = gd.predict()\n",
        "\n",
        "# Хамгийн ойрхон байрлалтай 5 холбоосийг хадгалах\n",
        "top = gd_results.top(5)\n",
        "# Тэдгээрийн хувьд оройнууд болон оноог хэвлэнэ\n",
        "for edge, score in top.items():\n",
        "    print(edge, score)\n"
      ]
    },
    {
      "cell_type": "markdown",
      "metadata": {
        "id": "JmupbL680asG"
      },
      "source": [
        "#### 2.B.3 Rankig\n",
        "Гуравдагч бүлэг таамаглагчид нь граф дахь хос оройнуудын байрлалаас хамаарч холбогдох магадлалыг тооцоолно.\n",
        " </br>\n",
        "Дараах асуултанд хариулж буй байдлаас хамаарч тодорхойлогдоно: *How similar are we?\n",
        "\n",
        "##### **SimRank**\n",
        "Хоёр зангилаа холбоосоор холбогдохын тул тэдгээрийн хөрш оройнууд ижил төсөөтэй байх хэрэгтэй. Өөрөөр хэлбэл:\n",
        "“If two nodes are similar, then their neighbors should also be similar.”\n",
        "\n",
        "Иймээс хөршүүдийн бүтцийн төсөөтэй байдал нь оройн хоорондын ирээдүйн холболтын магадлалыг тодорхойлно. Доорх үр дүн нь одоогоор холбоогүй оройнуудын хооронд SimRank-ийн хамгийн өндөр оноотой хосуудыг харуулж байна."
      ]
    },
    {
      "cell_type": "code",
      "execution_count": null,
      "metadata": {
        "colab": {
          "base_uri": "https://localhost:8080/"
        },
        "id": "yqXOqgWf0asG",
        "outputId": "54411730-1dcd-40fb-f101-37408c039ead"
      },
      "outputs": [
        {
          "output_type": "stream",
          "name": "stdout",
          "text": [
            "MAESTER_CITADEL - MAESTER_AEMON 0.3920701611834253\n",
            "RAY - GATINS 0.3886464843365491\n",
            "GATINS - BERIC 0.3675791855431439\n",
            "THOROS - GATINS 0.3636591552182033\n",
            "MAESTER_AEMON - GILLY 0.319889623157789\n"
          ]
        }
      ],
      "source": [
        "# Оршин байгаа оройнуудыг оролцуулахгүйгээр SimRank таамаглагчийг g графд үүсгэх\n",
        "simrank = linkpred.predictors.SimRank(g, excluded=g.edges())\n",
        "# Ирээдүйд үүсэх боломжит ирмэгүүдэд оноог нь тооцоолох (c = decay factor)\n",
        "simrank_results = simrank.predict(c=0.5)\n",
        "\n",
        "# Хамгийн өндөр оноотой 5 холбоосийг хадгалах\n",
        "top = simrank_results.top(5)\n",
        "# Тэдгээрийн хувьд оройнууд болон оноог хэвлэнэ\n",
        "for edge, score in top.items():\n",
        "    print(edge, score)\n"
      ]
    },
    {
      "cell_type": "markdown",
      "metadata": {
        "id": "2RLWWBhM0asG"
      },
      "source": [
        "#### 2.B.4 Miscellanea\n",
        "Энэ нь холбоосыг таамаглахдаа санамсаргүй байдлаар сонгож авдаг.\n",
        " </br>\n",
        "``linkpred`` groups here approaches that are commonly used as baselines.\n",
        "\n",
        "##### **Random**\n",
        "Санамсаргүй байдлаар таах. Энэ нь хамгийн энгийн baseline таамаглагч юм. Ямар нэгэн логик, хөршийн бүтэц, эсвэл холболтын мэдээлэл ашиглахгүй, зүгээр л санамсаргүй байдлаар оройн хосуудыг сонгон магадлал өгдөг. Үүнийг голчлон бусад алгоритмуудыг харьцуулах суурь болгон ашигладаг."
      ]
    },
    {
      "cell_type": "code",
      "execution_count": null,
      "metadata": {
        "colab": {
          "base_uri": "https://localhost:8080/"
        },
        "id": "lXVnLjig0asG",
        "outputId": "bb5e292a-6e62-4706-ad55-4a02800bbde8"
      },
      "outputs": [
        {
          "output_type": "stream",
          "name": "stdout",
          "text": [
            "LANCEL - KEVAN 0.9998723603482418\n",
            "RAZDAL - AREO 0.9998446611770268\n",
            "OLLY - MELESSA 0.9997451068697903\n",
            "LEM - ARTHUR_CHILD 0.9996991664462803\n",
            "TRYSTANE - ROBIN 0.9996200174674053\n"
          ]
        }
      ],
      "source": [
        "# Random таамаглагчийг үүсгэх (оршин байгаа ирмэгүүдийг орхино)\n",
        "rnd = linkpred.predictors.Random(g, excluded=g.edges())\n",
        "# Таамаглал хийх\n",
        "rnd_results = rnd.predict()\n",
        "\n",
        "# Хамгийн өндөр оноотой 5 холбоосыг авах (энд оноо бол утгагүй, зүгээр санамсаргүй)\n",
        "top = rnd_results.top(5)\n",
        "# Үр дүнг хэвлэх\n",
        "for edge, score in top.items():\n",
        "    print(edge, score)\n"
      ]
    },
    {
      "cell_type": "markdown",
      "metadata": {
        "id": "HJ0sQIje0asG"
      },
      "source": [
        "<a id='eval'></a>\n",
        "### 2.C Ялгаатай таамаглагчидын харьцуулах болон үнэлэх\n",
        "Холбоосуудыг үүсэх эсэхийг таамаглахдаа бид сургалтын болон тестийн өгөгдлүүдтэй ажиллаж шалгана. Өгөгдлөө сургалтын болон тестийн болгон хуваах шаардлагатай."
      ]
    },
    {
      "cell_type": "markdown",
      "source": [
        "**random** сан нь санамсаргүй тоонууд үүсгэх, санамсаргүй үйлдлүүд хийх, жишээлбэл санамсаргүй оройг сонгох эсвэл өгөгдлийг хуваахад ашиглагддаг. Мөн **itertools** сан нь итераторуудтай ажиллахад зориулсан хэрэгслүүдийг хангадаг, жишээлбэл, хослол, пермутаци, Картианы нийлбэр үүсгэх боломжийг олгодог. Харин **linkpred.evaluation** сангаас **Pair**-г импортлон авч, хоёр оройн хоорондох хослолыг төлөөлдөг. Энэ нь холбоосын таамаглал хийх болон графын орой хоорондын холбоосын магадлалыг тооцоолохдоо чухал үүрэг гүйцэтгэдэг."
      ],
      "metadata": {
        "id": "BBSZDP0kT6NI"
      }
    },
    {
      "cell_type": "code",
      "execution_count": null,
      "metadata": {
        "id": "NybDVGWo0asH"
      },
      "outputs": [],
      "source": [
        "import random\n",
        "import itertools\n",
        "from linkpred.evaluation import Pair\n",
        "\n",
        "# Тестийн сүлжээний өгөгдлийг унших\n",
        "test = read_net_w(f'/content/drive/My Drive/asioaf/got-s7-edges.csv')\n",
        "\n",
        "# Сургалтын өгөгдөл: Тест сүлжээний өгөгдлийг сургалтын фазад орхино\n",
        "training = g.copy()\n",
        "\n",
        "# Оройнуудыг авна\n",
        "nodes = list(g.nodes())\n",
        "nodes.extend(list(test.nodes()))\n",
        "\n",
        "# Тестийн сүлжээний бүх ирмэгүүдийг Pair объект болгон хадгалах\n",
        "test = [Pair(i) for i in test.edges()]\n",
        "\n",
        "# Бүх боломжит хосуудыг үүсгэх (Node-уудын хоорондох бүх хосууд)\n",
        "universe = set([Pair(i) for i in itertools.product(nodes, nodes) if i[0] != i[1]])\n"
      ]
    },
    {
      "cell_type": "markdown",
      "metadata": {
        "id": "xOJrigLz0asH"
      },
      "source": [
        "Дараагаар нь бид сургалтын өгөгдөл дээрээ таамаглагчаа ажиллуулна. Энэхүү хэсэгт бид Common Neighbours, Adamic Adar болон Jaccard алгоритмуудыг авч үзэх гэж байна."
      ]
    },
    {
      "cell_type": "code",
      "execution_count": null,
      "metadata": {
        "id": "QmmpypKS0asH"
      },
      "outputs": [],
      "source": [
        "# Common Neighbours хувьд сургалтын өгөгдөл дээрээ таамаглагчаа ажиллуулна\n",
        "cn = linkpred.predictors.CommonNeighbours(training, excluded=training.edges())\n",
        "cn_results = cn.predict()\n",
        "\n",
        "# Adamic Adar хувьд сургалтын өгөгдөл дээрээ таамаглагчаа ажиллуулна\n",
        "aa = linkpred.predictors.AdamicAdar(training, excluded=training.edges())\n",
        "aa_results = aa.predict()\n",
        "\n",
        "# Jaccard хувьд сургалтын өгөгдөл дээрээ таамаглагчаа ажиллуулна\n",
        "jc = linkpred.predictors.Jaccard(training, excluded=training.edges())\n",
        "jc_results = jc.predict()"
      ]
    },
    {
      "cell_type": "markdown",
      "metadata": {
        "id": "D47fHTM30asH"
      },
      "source": [
        "Тэгээд бид тестийн өгөгдлөө ашиглан таамаглагч хэр үнэн таамаглаж буй үнэлнэ. Link Prediction хувьд ихэвчлэн performance p-н хувьд ratio тооцох, ROC гэх мэт precision, recall зэргийг ашиглан үнэлгээ хийдэг.\n",
        "\n",
        "Дараах хэсэгт ашиглаж буй `linkpred.evaluation.EvaluationSheet` функц нь нарийвчлал (Precision), сануулга (Recall), F1 оноо, дундаж нарийвчлал (Average Precision), ROC AUC (Curve дор талбай) болон дундаж нарийвчлалын оноо (MAP) зэрэг хэмжүүрүүдийг буцааж, таамагласан холбоосуудыг бодит холбоосуудтай харьцуулан холбоосын таамаглалын алгоритмын үнэлгээг хийнэ."
      ]
    },
    {
      "cell_type": "code",
      "execution_count": null,
      "metadata": {
        "id": "P9AVN8ad0asH"
      },
      "outputs": [],
      "source": [
        "cn_evaluation = linkpred.evaluation.EvaluationSheet(cn_results, test, universe)\n",
        "aa_evaluation = linkpred.evaluation.EvaluationSheet(aa_results, test, universe)\n",
        "jc_evaluation = linkpred.evaluation.EvaluationSheet(jc_results, test, universe)"
      ]
    },
    {
      "cell_type": "markdown",
      "metadata": {
        "id": "ARg7azri0asH"
      },
      "source": [
        "Үр дүнгүүдээ тайлбарлахдаа бид ROC -ийн муруй ашиглан дүрслэнэ.\n",
        "\n",
        "***Fallout (Хуурамч эерэгийн хэмжээ, FPR)*** нь сөрөг жишээнүүдийн дотор буруу эерэг гэж ангилагдсан хувь хэмжээг илэрхийлдэг, үүнийхээ тулд хуурамч эерэгүүдийг бодит сөрөг жишээнүүдийн нийт тоонд хуваана.\n",
        "\n",
        "***Recall (Жинхэнэ эерэгийн хэмжээ, TPR)*** нь эерэг жишээнүүдийн дотор жинхэнэ эерэг гэж зөв ангилагдсан хувь хэмжээг илэрхийлдэг, үүнийхээ тулд жинхэнэ эерэгүүдийг бодит эерэг жишээнүүдийн нийт тоонд хуваана."
      ]
    },
    {
      "cell_type": "code",
      "execution_count": null,
      "metadata": {
        "colab": {
          "base_uri": "https://localhost:8080/",
          "height": 449
        },
        "id": "H-alLozl0asH",
        "outputId": "5770053b-062f-4d59-c466-1602a8913e13"
      },
      "outputs": [
        {
          "output_type": "display_data",
          "data": {
            "text/plain": [
              "<Figure size 640x480 with 1 Axes>"
            ],
            "image/png": "[encoded data removed]"
          },
          "metadata": {}
        }
      ],
      "source": [
        "# Common Neighbors алгоритм хувьд fallout (FPR) vs recall (TPR) зурах\n",
        "plt.plot(cn_evaluation.fallout(), cn_evaluation.recall(), label=\"Common Neighbors\")\n",
        "\n",
        "# Adamic Adar algorithm алгоритм хувьд fallout (FPR) vs recall (TPR) зурах\n",
        "plt.plot(aa_evaluation.fallout(), aa_evaluation.recall(), label=\"Adamic Adar\")\n",
        "\n",
        "# Jaccard algorithm алгоритм хувьд fallout (FPR) vs recall (TPR) зурах\n",
        "plt.plot(jc_evaluation.fallout(), jc_evaluation.recall(), label=\"Jaccard\")\n",
        "\n",
        "# y тэнхлэгийг \"TPR\" (True Positive Rate) гэж нэрлэх\n",
        "plt.ylabel(\"TPR\")\n",
        "\n",
        "# x-тэнхлэгийг \"FPR\" (False Positive Rate) гэж нэрлэх\n",
        "plt.xlabel(\"FPR\")\n",
        "\n",
        "# Гурван шулууныг ялгах legend нэмэх\n",
        "plt.legend()\n",
        "\n",
        "# Графыг дэлгэцэнд харуулах\n",
        "plt.show()\n"
      ]
    },
    {
      "cell_type": "markdown",
      "source": [
        "Дээрх үр дүнд гарч ирж буй график нь холбоос таамаглах гурван өөр алгоритмын (Common Neighbors, Adamic-Adar, Jaccard) Receiver Operating Characteristic (ROC) муруйг харуулж байна. Муруйнуудыг харьцуулахад Adamic-Adar алгоритм нь False Positive Rate (FPR)-ийн өгөгдсөн утгад True Positive Rate (TPR) нь ерөнхийдөө илүү өндөр байгаа нь ихэнх муруйн дагуух хязгаарт жинхэнэ холбоосуудыг илүү сайн тодорхойлж, хуурамч эерэг таамаглалыг багасгаж байгааг харуулж байна. Jaccard индекс нь доод талын ROC муруйгаар харахад гурван алгоритм дундаа хамгийн сул үзүүлэлттэй байна."
      ],
      "metadata": {
        "id": "irB3WGKLZPsj"
      }
    },
    {
      "cell_type": "markdown",
      "metadata": {
        "id": "qQOF0QNu0asH"
      },
      "source": [
        "Үр дүнгээ нэгтгэн тайлбарлах, дүгнэхэд хамгийн тохиромжтой, энгийн арга нь ROC муруй болон үүн дээр AUC бодож үзэх юм. AUC нь алгоритм хэр сайн ажиллаж байгааг харуулдаг ба илүү өндөр утга нь илүү сайн гүйцэтгэлтэй гэсэн үг.\n",
        "\n",
        "Common Neighbors алгоритм нь AUC 0.0268-тай, энэ нь муруй дор талбайн хэмжээ бага байгааг, буюу энэ алгоритм нь хангалттай сайн гүйцэтгэлтэй биш гэсэн үг.\n",
        "Adamic Adar алгоритм нь AUC 0.0273-тай, энэ нь бас сайн гүйцэтгэлгүй байгааг харуулж байна.\n",
        "Jaccard алгоритм нь AUC 0.0189-тай, энэ нь мөн адил хангалтггүй гүйцэтгэлтэй болохыг харуулж байна."
      ]
    },
    {
      "cell_type": "code",
      "execution_count": null,
      "metadata": {
        "colab": {
          "base_uri": "https://localhost:8080/"
        },
        "id": "oSKu-Xs90asH",
        "outputId": "50c9e4a6-8f80-4591-c8e9-03452a198486"
      },
      "outputs": [
        {
          "output_type": "stream",
          "name": "stdout",
          "text": [
            "Area Under Roc Curve (AUROC)\n",
            "Common Neigh.: \t 0.026832485313825823\n",
            "Adamic Adar: \t 0.027259625028069757\n",
            "Jaccard: \t 0.018894838921578106\n"
          ]
        }
      ],
      "source": [
        "from sklearn.metrics import auc\n",
        "\n",
        "print(\"Area Under Roc Curve (AUROC)\")\n",
        "print(f\"Common Neigh.: \\t {auc(cn_evaluation.fallout(), cn_evaluation.recall())}\")\n",
        "print(f\"Adamic Adar: \\t {auc(aa_evaluation.fallout(), aa_evaluation.recall())}\")\n",
        "print(f\"Jaccard: \\t {auc(jc_evaluation.fallout(), jc_evaluation.recall())}\")"
      ]
    },
    {
      "cell_type": "markdown",
      "source": [
        "**Даалгавар:**\n",
        "\n",
        "1.   Jaccard болон Adamic Adar хоёр яагаад ялгаатай үр дүн үзүүлж байна вэ? Тайлбарлана уу.  \n",
        "    - Jaccard болон Adamic Adar хоёр ялгаатай үр дүн үзүүлж байгаа нь эдгээр алгоритмуудын үндсэн арга барилд ялгаа байдагтай холбоотой. Jaccard нь хоёр оройн нийтлэг хөршүүдийн хувь хэмжээг ашигладаг бол Adamic Adar нь хөршүүдийн тоог харгалзан жингүүдийг тооцдог, мөн нэлээд давтагдсан хөршүүдийг илүү үнэлдэг. Энэ нь алгоритмуудын хооронд ялгаатай үр дүнг үүсгэдэг.\n",
        "\n",
        "2.   linkpred санг ашиглан desicion tree алгоритмаар холбоосыг илрүүлж болох уу.\n",
        "    - Linkpred санг ашиглан Decision Tree алгоритмоор холбоосыг илрүүлэх боломжтой. Decision Tree нь шинж чанар дээр үндэслэн ангилал хийдэг тул тухайн холбоосуудын шинж чанарыг ашиглан илрүүлэг хийхэд ашиглаж болно.\n",
        "\n",
        "\n"
      ],
      "metadata": {
        "id": "2IsY0j-Ziydm"
      }
    }
  ],
  "metadata": {
    "kernelspec": {
      "display_name": "Python 3",
      "language": "python",
      "name": "python3"
    },
    "language_info": {
      "codemirror_mode": {
        "name": "ipython",
        "version": 3
      },
      "file_extension": ".py",
      "mimetype": "text/x-python",
      "name": "python",
      "nbconvert_exporter": "python",
      "pygments_lexer": "ipython3",
      "version": "3.6.5-final"
    },
    "colab": {
      "provenance": []
    }
  },
  "nbformat": 4,
  "nbformat_minor": 0
}